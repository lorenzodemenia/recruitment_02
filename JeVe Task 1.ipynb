{
 "cells": [
  {
   "cell_type": "code",
   "execution_count": 1,
   "id": "af90ed7d",
   "metadata": {
    "scrolled": true
   },
   "outputs": [],
   "source": [
    "import numpy as np"
   ]
  },
  {
   "cell_type": "code",
   "execution_count": 2,
   "id": "5452e86c",
   "metadata": {},
   "outputs": [],
   "source": [
    "import pandas as pd"
   ]
  },
  {
   "cell_type": "code",
   "execution_count": 3,
   "id": "4d7e016a",
   "metadata": {},
   "outputs": [],
   "source": [
    "import matplotlib.pyplot as plt"
   ]
  },
  {
   "cell_type": "code",
   "execution_count": 4,
   "id": "6ffec8b9",
   "metadata": {},
   "outputs": [],
   "source": [
    "df=pd.read_csv('DataGruppo2.csv', encoding='windows-1252')"
   ]
  },
  {
   "cell_type": "code",
   "execution_count": 5,
   "id": "633f602c",
   "metadata": {},
   "outputs": [
    {
     "data": {
      "text/html": [
       "<div>\n",
       "<style scoped>\n",
       "    .dataframe tbody tr th:only-of-type {\n",
       "        vertical-align: middle;\n",
       "    }\n",
       "\n",
       "    .dataframe tbody tr th {\n",
       "        vertical-align: top;\n",
       "    }\n",
       "\n",
       "    .dataframe thead th {\n",
       "        text-align: right;\n",
       "    }\n",
       "</style>\n",
       "<table border=\"1\" class=\"dataframe\">\n",
       "  <thead>\n",
       "    <tr style=\"text-align: right;\">\n",
       "      <th></th>\n",
       "      <th>Row ID</th>\n",
       "      <th>Order ID</th>\n",
       "      <th>Order Date</th>\n",
       "      <th>Ship Date</th>\n",
       "      <th>Ship Mode</th>\n",
       "      <th>Customer ID</th>\n",
       "      <th>Customer Name</th>\n",
       "      <th>Segment</th>\n",
       "      <th>Country</th>\n",
       "      <th>City</th>\n",
       "      <th>...</th>\n",
       "      <th>Postal Code</th>\n",
       "      <th>Region</th>\n",
       "      <th>Product ID</th>\n",
       "      <th>Category</th>\n",
       "      <th>Sub-Category</th>\n",
       "      <th>Product Name</th>\n",
       "      <th>Sales</th>\n",
       "      <th>Quantity</th>\n",
       "      <th>Discount</th>\n",
       "      <th>Profit</th>\n",
       "    </tr>\n",
       "  </thead>\n",
       "  <tbody>\n",
       "    <tr>\n",
       "      <th>0</th>\n",
       "      <td>1</td>\n",
       "      <td>CA-2016-152156</td>\n",
       "      <td>11/8/2016</td>\n",
       "      <td>11/11/2016</td>\n",
       "      <td>Second Class</td>\n",
       "      <td>CG-12520</td>\n",
       "      <td>Claire Gute</td>\n",
       "      <td>Consumer</td>\n",
       "      <td>United States</td>\n",
       "      <td>Henderson</td>\n",
       "      <td>...</td>\n",
       "      <td>42420</td>\n",
       "      <td>South</td>\n",
       "      <td>FUR-BO-10001798</td>\n",
       "      <td>Furniture</td>\n",
       "      <td>Bookcases</td>\n",
       "      <td>Bush Somerset Collection Bookcase</td>\n",
       "      <td>261.9600</td>\n",
       "      <td>2</td>\n",
       "      <td>0.00</td>\n",
       "      <td>41.9136</td>\n",
       "    </tr>\n",
       "    <tr>\n",
       "      <th>1</th>\n",
       "      <td>2</td>\n",
       "      <td>CA-2016-152156</td>\n",
       "      <td>11/8/2016</td>\n",
       "      <td>11/11/2016</td>\n",
       "      <td>Second Class</td>\n",
       "      <td>CG-12520</td>\n",
       "      <td>Claire Gute</td>\n",
       "      <td>Consumer</td>\n",
       "      <td>United States</td>\n",
       "      <td>Henderson</td>\n",
       "      <td>...</td>\n",
       "      <td>42420</td>\n",
       "      <td>South</td>\n",
       "      <td>FUR-CH-10000454</td>\n",
       "      <td>Furniture</td>\n",
       "      <td>Chairs</td>\n",
       "      <td>Hon Deluxe Fabric Upholstered Stacking Chairs,...</td>\n",
       "      <td>731.9400</td>\n",
       "      <td>3</td>\n",
       "      <td>0.00</td>\n",
       "      <td>219.5820</td>\n",
       "    </tr>\n",
       "    <tr>\n",
       "      <th>2</th>\n",
       "      <td>3</td>\n",
       "      <td>CA-2016-138688</td>\n",
       "      <td>6/12/2016</td>\n",
       "      <td>6/16/2016</td>\n",
       "      <td>Second Class</td>\n",
       "      <td>DV-13045</td>\n",
       "      <td>Darrin Van Huff</td>\n",
       "      <td>Corporate</td>\n",
       "      <td>United States</td>\n",
       "      <td>Los Angeles</td>\n",
       "      <td>...</td>\n",
       "      <td>90036</td>\n",
       "      <td>West</td>\n",
       "      <td>OFF-LA-10000240</td>\n",
       "      <td>Office Supplies</td>\n",
       "      <td>Labels</td>\n",
       "      <td>Self-Adhesive Address Labels for Typewriters b...</td>\n",
       "      <td>14.6200</td>\n",
       "      <td>2</td>\n",
       "      <td>0.00</td>\n",
       "      <td>6.8714</td>\n",
       "    </tr>\n",
       "    <tr>\n",
       "      <th>3</th>\n",
       "      <td>4</td>\n",
       "      <td>US-2015-108966</td>\n",
       "      <td>10/11/2015</td>\n",
       "      <td>10/18/2015</td>\n",
       "      <td>Standard Class</td>\n",
       "      <td>SO-20335</td>\n",
       "      <td>Sean O'Donnell</td>\n",
       "      <td>Consumer</td>\n",
       "      <td>United States</td>\n",
       "      <td>Fort Lauderdale</td>\n",
       "      <td>...</td>\n",
       "      <td>33311</td>\n",
       "      <td>South</td>\n",
       "      <td>FUR-TA-10000577</td>\n",
       "      <td>Furniture</td>\n",
       "      <td>Tables</td>\n",
       "      <td>Bretford CR4500 Series Slim Rectangular Table</td>\n",
       "      <td>957.5775</td>\n",
       "      <td>5</td>\n",
       "      <td>0.45</td>\n",
       "      <td>-383.0310</td>\n",
       "    </tr>\n",
       "    <tr>\n",
       "      <th>4</th>\n",
       "      <td>5</td>\n",
       "      <td>US-2015-108966</td>\n",
       "      <td>10/11/2015</td>\n",
       "      <td>10/18/2015</td>\n",
       "      <td>Standard Class</td>\n",
       "      <td>SO-20335</td>\n",
       "      <td>Sean O'Donnell</td>\n",
       "      <td>Consumer</td>\n",
       "      <td>United States</td>\n",
       "      <td>Fort Lauderdale</td>\n",
       "      <td>...</td>\n",
       "      <td>33311</td>\n",
       "      <td>South</td>\n",
       "      <td>OFF-ST-10000760</td>\n",
       "      <td>Office Supplies</td>\n",
       "      <td>Storage</td>\n",
       "      <td>Eldon Fold 'N Roll Cart System</td>\n",
       "      <td>22.3680</td>\n",
       "      <td>2</td>\n",
       "      <td>0.20</td>\n",
       "      <td>2.5164</td>\n",
       "    </tr>\n",
       "  </tbody>\n",
       "</table>\n",
       "<p>5 rows × 21 columns</p>\n",
       "</div>"
      ],
      "text/plain": [
       "   Row ID        Order ID  Order Date   Ship Date       Ship Mode Customer ID  \\\n",
       "0       1  CA-2016-152156   11/8/2016  11/11/2016    Second Class    CG-12520   \n",
       "1       2  CA-2016-152156   11/8/2016  11/11/2016    Second Class    CG-12520   \n",
       "2       3  CA-2016-138688   6/12/2016   6/16/2016    Second Class    DV-13045   \n",
       "3       4  US-2015-108966  10/11/2015  10/18/2015  Standard Class    SO-20335   \n",
       "4       5  US-2015-108966  10/11/2015  10/18/2015  Standard Class    SO-20335   \n",
       "\n",
       "     Customer Name    Segment        Country             City  ...  \\\n",
       "0      Claire Gute   Consumer  United States        Henderson  ...   \n",
       "1      Claire Gute   Consumer  United States        Henderson  ...   \n",
       "2  Darrin Van Huff  Corporate  United States      Los Angeles  ...   \n",
       "3   Sean O'Donnell   Consumer  United States  Fort Lauderdale  ...   \n",
       "4   Sean O'Donnell   Consumer  United States  Fort Lauderdale  ...   \n",
       "\n",
       "  Postal Code  Region       Product ID         Category Sub-Category  \\\n",
       "0       42420   South  FUR-BO-10001798        Furniture    Bookcases   \n",
       "1       42420   South  FUR-CH-10000454        Furniture       Chairs   \n",
       "2       90036    West  OFF-LA-10000240  Office Supplies       Labels   \n",
       "3       33311   South  FUR-TA-10000577        Furniture       Tables   \n",
       "4       33311   South  OFF-ST-10000760  Office Supplies      Storage   \n",
       "\n",
       "                                        Product Name     Sales  Quantity  \\\n",
       "0                  Bush Somerset Collection Bookcase  261.9600         2   \n",
       "1  Hon Deluxe Fabric Upholstered Stacking Chairs,...  731.9400         3   \n",
       "2  Self-Adhesive Address Labels for Typewriters b...   14.6200         2   \n",
       "3      Bretford CR4500 Series Slim Rectangular Table  957.5775         5   \n",
       "4                     Eldon Fold 'N Roll Cart System   22.3680         2   \n",
       "\n",
       "   Discount    Profit  \n",
       "0      0.00   41.9136  \n",
       "1      0.00  219.5820  \n",
       "2      0.00    6.8714  \n",
       "3      0.45 -383.0310  \n",
       "4      0.20    2.5164  \n",
       "\n",
       "[5 rows x 21 columns]"
      ]
     },
     "execution_count": 5,
     "metadata": {},
     "output_type": "execute_result"
    }
   ],
   "source": [
    "df.head()"
   ]
  },
  {
   "cell_type": "code",
   "execution_count": 6,
   "id": "c749f871",
   "metadata": {},
   "outputs": [
    {
     "name": "stdout",
     "output_type": "stream",
     "text": [
      "df.shape:  (9994, 21)\n"
     ]
    }
   ],
   "source": [
    "print(\"df.shape: \", df.shape)"
   ]
  },
  {
   "cell_type": "code",
   "execution_count": 7,
   "id": "3c0bbd43",
   "metadata": {},
   "outputs": [
    {
     "name": "stdout",
     "output_type": "stream",
     "text": [
      "df.index:  RangeIndex(start=0, stop=9994, step=1)\n"
     ]
    }
   ],
   "source": [
    "print(\"df.index: \", df.index)"
   ]
  },
  {
   "cell_type": "code",
   "execution_count": 8,
   "id": "e1c186f0",
   "metadata": {},
   "outputs": [
    {
     "name": "stdout",
     "output_type": "stream",
     "text": [
      "df.columns:  Index(['Row ID', 'Order ID', 'Order Date', 'Ship Date', 'Ship Mode',\n",
      "       'Customer ID', 'Customer Name', 'Segment', 'Country', 'City', 'State',\n",
      "       'Postal Code', 'Region', 'Product ID', 'Category', 'Sub-Category',\n",
      "       'Product Name', 'Sales', 'Quantity', 'Discount', 'Profit'],\n",
      "      dtype='object')\n"
     ]
    }
   ],
   "source": [
    "print(\"df.columns: \", df.columns)"
   ]
  },
  {
   "cell_type": "code",
   "execution_count": 9,
   "id": "665396f9",
   "metadata": {},
   "outputs": [],
   "source": [
    "df['Unit Price']=df['Sales']/df['Quantity']"
   ]
  },
  {
   "cell_type": "code",
   "execution_count": 10,
   "id": "41542889",
   "metadata": {
    "scrolled": true
   },
   "outputs": [],
   "source": [
    "df['Unit Price w/out Discout']=df['Unit Price']/(1-df['Discount'])"
   ]
  },
  {
   "cell_type": "code",
   "execution_count": 11,
   "id": "0e611327",
   "metadata": {},
   "outputs": [],
   "source": [
    "df['Unit Cost']=df['Unit Price']-df['Profit']/df['Quantity']"
   ]
  },
  {
   "cell_type": "code",
   "execution_count": 12,
   "id": "02e76734",
   "metadata": {},
   "outputs": [],
   "source": [
    "del(df['Country'])"
   ]
  },
  {
   "cell_type": "code",
   "execution_count": 13,
   "id": "ea232848",
   "metadata": {},
   "outputs": [
    {
     "data": {
      "text/plain": [
       "{'Alabama',\n",
       " 'Arizona',\n",
       " 'Arkansas',\n",
       " 'California',\n",
       " 'Colorado',\n",
       " 'Connecticut',\n",
       " 'Delaware',\n",
       " 'District of Columbia',\n",
       " 'Florida',\n",
       " 'Georgia',\n",
       " 'Idaho',\n",
       " 'Illinois',\n",
       " 'Indiana',\n",
       " 'Iowa',\n",
       " 'Kansas',\n",
       " 'Kentucky',\n",
       " 'Louisiana',\n",
       " 'Maine',\n",
       " 'Maryland',\n",
       " 'Massachusetts',\n",
       " 'Michigan',\n",
       " 'Minnesota',\n",
       " 'Mississippi',\n",
       " 'Missouri',\n",
       " 'Montana',\n",
       " 'Nebraska',\n",
       " 'Nevada',\n",
       " 'New Hampshire',\n",
       " 'New Jersey',\n",
       " 'New Mexico',\n",
       " 'New York',\n",
       " 'North Carolina',\n",
       " 'North Dakota',\n",
       " 'Ohio',\n",
       " 'Oklahoma',\n",
       " 'Oregon',\n",
       " 'Pennsylvania',\n",
       " 'Rhode Island',\n",
       " 'South Carolina',\n",
       " 'South Dakota',\n",
       " 'Tennessee',\n",
       " 'Texas',\n",
       " 'Utah',\n",
       " 'Vermont',\n",
       " 'Virginia',\n",
       " 'Washington',\n",
       " 'West Virginia',\n",
       " 'Wisconsin',\n",
       " 'Wyoming'}"
      ]
     },
     "execution_count": 13,
     "metadata": {},
     "output_type": "execute_result"
    }
   ],
   "source": [
    "set(df['State'])"
   ]
  },
  {
   "cell_type": "code",
   "execution_count": 14,
   "id": "6cdf06c6",
   "metadata": {},
   "outputs": [
    {
     "data": {
      "text/plain": [
       "California              2001\n",
       "New York                1128\n",
       "Texas                    985\n",
       "Pennsylvania             587\n",
       "Washington               506\n",
       "Illinois                 492\n",
       "Ohio                     469\n",
       "Florida                  383\n",
       "Michigan                 255\n",
       "North Carolina           249\n",
       "Arizona                  224\n",
       "Virginia                 224\n",
       "Georgia                  184\n",
       "Tennessee                183\n",
       "Colorado                 182\n",
       "Indiana                  149\n",
       "Kentucky                 139\n",
       "Massachusetts            135\n",
       "New Jersey               130\n",
       "Oregon                   124\n",
       "Wisconsin                110\n",
       "Maryland                 105\n",
       "Delaware                  96\n",
       "Minnesota                 89\n",
       "Connecticut               82\n",
       "Oklahoma                  66\n",
       "Missouri                  66\n",
       "Alabama                   61\n",
       "Arkansas                  60\n",
       "Rhode Island              56\n",
       "Utah                      53\n",
       "Mississippi               53\n",
       "Louisiana                 42\n",
       "South Carolina            42\n",
       "Nevada                    39\n",
       "Nebraska                  38\n",
       "New Mexico                37\n",
       "Iowa                      30\n",
       "New Hampshire             27\n",
       "Kansas                    24\n",
       "Idaho                     21\n",
       "Montana                   15\n",
       "South Dakota              12\n",
       "Vermont                   11\n",
       "District of Columbia      10\n",
       "Maine                      8\n",
       "North Dakota               7\n",
       "West Virginia              4\n",
       "Wyoming                    1\n",
       "Name: State, dtype: int64"
      ]
     },
     "execution_count": 14,
     "metadata": {},
     "output_type": "execute_result"
    }
   ],
   "source": [
    "df['State'].value_counts()"
   ]
  },
  {
   "cell_type": "code",
   "execution_count": 15,
   "id": "79efbc2d",
   "metadata": {},
   "outputs": [
    {
     "data": {
      "text/plain": [
       "New York City      915\n",
       "Los Angeles        747\n",
       "Philadelphia       537\n",
       "San Francisco      510\n",
       "Seattle            428\n",
       "                  ... \n",
       "Glenview             1\n",
       "Missouri City        1\n",
       "Rochester Hills      1\n",
       "Palatine             1\n",
       "Manhattan            1\n",
       "Name: City, Length: 531, dtype: int64"
      ]
     },
     "execution_count": 15,
     "metadata": {},
     "output_type": "execute_result"
    }
   ],
   "source": [
    "df['City'].value_counts()"
   ]
  },
  {
   "cell_type": "code",
   "execution_count": 16,
   "id": "48c91653",
   "metadata": {},
   "outputs": [
    {
     "data": {
      "text/plain": [
       "Consumer       5191\n",
       "Corporate      3020\n",
       "Home Office    1783\n",
       "Name: Segment, dtype: int64"
      ]
     },
     "execution_count": 16,
     "metadata": {},
     "output_type": "execute_result"
    }
   ],
   "source": [
    "df['Segment'].value_counts()"
   ]
  },
  {
   "cell_type": "code",
   "execution_count": 17,
   "id": "3aa3c73f",
   "metadata": {},
   "outputs": [
    {
     "data": {
      "text/plain": [
       "Office Supplies    6026\n",
       "Furniture          2121\n",
       "Technology         1847\n",
       "Name: Category, dtype: int64"
      ]
     },
     "execution_count": 17,
     "metadata": {},
     "output_type": "execute_result"
    }
   ],
   "source": [
    "df['Category'].value_counts()"
   ]
  },
  {
   "cell_type": "code",
   "execution_count": 18,
   "id": "5b95dcc0",
   "metadata": {},
   "outputs": [
    {
     "data": {
      "text/plain": [
       "Standard Class    5968\n",
       "Second Class      1945\n",
       "First Class       1538\n",
       "Same Day           543\n",
       "Name: Ship Mode, dtype: int64"
      ]
     },
     "execution_count": 18,
     "metadata": {},
     "output_type": "execute_result"
    }
   ],
   "source": [
    "df['Ship Mode'].value_counts()"
   ]
  },
  {
   "cell_type": "code",
   "execution_count": 19,
   "id": "6d87a1f9",
   "metadata": {},
   "outputs": [
    {
     "data": {
      "text/plain": [
       "WB-21850    37\n",
       "JL-15835    34\n",
       "MA-17560    34\n",
       "PP-18955    34\n",
       "CK-12205    32\n",
       "            ..\n",
       "LD-16855     1\n",
       "AO-10810     1\n",
       "CJ-11875     1\n",
       "RE-19405     1\n",
       "JR-15700     1\n",
       "Name: Customer ID, Length: 793, dtype: int64"
      ]
     },
     "execution_count": 19,
     "metadata": {},
     "output_type": "execute_result"
    }
   ],
   "source": [
    "df['Customer ID'].value_counts()"
   ]
  },
  {
   "cell_type": "code",
   "execution_count": 20,
   "id": "6f9781af",
   "metadata": {},
   "outputs": [
    {
     "data": {
      "text/plain": [
       "West       3203\n",
       "East       2848\n",
       "Central    2323\n",
       "South      1620\n",
       "Name: Region, dtype: int64"
      ]
     },
     "execution_count": 20,
     "metadata": {},
     "output_type": "execute_result"
    }
   ],
   "source": [
    "df['Region'].value_counts()"
   ]
  },
  {
   "cell_type": "code",
   "execution_count": 21,
   "id": "dbe55477",
   "metadata": {},
   "outputs": [
    {
     "data": {
      "text/html": [
       "<div>\n",
       "<style scoped>\n",
       "    .dataframe tbody tr th:only-of-type {\n",
       "        vertical-align: middle;\n",
       "    }\n",
       "\n",
       "    .dataframe tbody tr th {\n",
       "        vertical-align: top;\n",
       "    }\n",
       "\n",
       "    .dataframe thead th {\n",
       "        text-align: right;\n",
       "    }\n",
       "</style>\n",
       "<table border=\"1\" class=\"dataframe\">\n",
       "  <thead>\n",
       "    <tr style=\"text-align: right;\">\n",
       "      <th></th>\n",
       "      <th>Row ID</th>\n",
       "      <th>Postal Code</th>\n",
       "      <th>Sales</th>\n",
       "      <th>Quantity</th>\n",
       "      <th>Discount</th>\n",
       "      <th>Profit</th>\n",
       "      <th>Unit Price</th>\n",
       "      <th>Unit Price w/out Discout</th>\n",
       "      <th>Unit Cost</th>\n",
       "    </tr>\n",
       "  </thead>\n",
       "  <tbody>\n",
       "    <tr>\n",
       "      <th>count</th>\n",
       "      <td>9994.000000</td>\n",
       "      <td>9994.000000</td>\n",
       "      <td>9994.000000</td>\n",
       "      <td>9994.000000</td>\n",
       "      <td>9994.000000</td>\n",
       "      <td>9994.000000</td>\n",
       "      <td>9994.000000</td>\n",
       "      <td>9994.000000</td>\n",
       "      <td>9994.000000</td>\n",
       "    </tr>\n",
       "    <tr>\n",
       "      <th>mean</th>\n",
       "      <td>4997.500000</td>\n",
       "      <td>55190.379428</td>\n",
       "      <td>229.858001</td>\n",
       "      <td>3.789574</td>\n",
       "      <td>0.156203</td>\n",
       "      <td>28.656896</td>\n",
       "      <td>60.919569</td>\n",
       "      <td>75.571127</td>\n",
       "      <td>53.120197</td>\n",
       "    </tr>\n",
       "    <tr>\n",
       "      <th>std</th>\n",
       "      <td>2885.163629</td>\n",
       "      <td>32063.693350</td>\n",
       "      <td>623.245101</td>\n",
       "      <td>2.225110</td>\n",
       "      <td>0.206452</td>\n",
       "      <td>234.260108</td>\n",
       "      <td>142.927440</td>\n",
       "      <td>188.961461</td>\n",
       "      <td>122.251398</td>\n",
       "    </tr>\n",
       "    <tr>\n",
       "      <th>min</th>\n",
       "      <td>1.000000</td>\n",
       "      <td>1040.000000</td>\n",
       "      <td>0.444000</td>\n",
       "      <td>1.000000</td>\n",
       "      <td>0.000000</td>\n",
       "      <td>-6599.978000</td>\n",
       "      <td>0.336000</td>\n",
       "      <td>0.990000</td>\n",
       "      <td>0.544500</td>\n",
       "    </tr>\n",
       "    <tr>\n",
       "      <th>25%</th>\n",
       "      <td>2499.250000</td>\n",
       "      <td>23223.000000</td>\n",
       "      <td>17.280000</td>\n",
       "      <td>2.000000</td>\n",
       "      <td>0.000000</td>\n",
       "      <td>1.728750</td>\n",
       "      <td>5.470000</td>\n",
       "      <td>6.480000</td>\n",
       "      <td>3.473600</td>\n",
       "    </tr>\n",
       "    <tr>\n",
       "      <th>50%</th>\n",
       "      <td>4997.500000</td>\n",
       "      <td>56430.500000</td>\n",
       "      <td>54.490000</td>\n",
       "      <td>3.000000</td>\n",
       "      <td>0.200000</td>\n",
       "      <td>8.666500</td>\n",
       "      <td>16.270000</td>\n",
       "      <td>19.980000</td>\n",
       "      <td>12.933600</td>\n",
       "    </tr>\n",
       "    <tr>\n",
       "      <th>75%</th>\n",
       "      <td>7495.750000</td>\n",
       "      <td>90008.000000</td>\n",
       "      <td>209.940000</td>\n",
       "      <td>5.000000</td>\n",
       "      <td>0.200000</td>\n",
       "      <td>29.364000</td>\n",
       "      <td>63.940000</td>\n",
       "      <td>76.980000</td>\n",
       "      <td>54.522000</td>\n",
       "    </tr>\n",
       "    <tr>\n",
       "      <th>max</th>\n",
       "      <td>9994.000000</td>\n",
       "      <td>99301.000000</td>\n",
       "      <td>22638.480000</td>\n",
       "      <td>14.000000</td>\n",
       "      <td>0.800000</td>\n",
       "      <td>8399.976000</td>\n",
       "      <td>3773.080000</td>\n",
       "      <td>7546.160000</td>\n",
       "      <td>4074.926400</td>\n",
       "    </tr>\n",
       "  </tbody>\n",
       "</table>\n",
       "</div>"
      ],
      "text/plain": [
       "            Row ID   Postal Code         Sales     Quantity     Discount  \\\n",
       "count  9994.000000   9994.000000   9994.000000  9994.000000  9994.000000   \n",
       "mean   4997.500000  55190.379428    229.858001     3.789574     0.156203   \n",
       "std    2885.163629  32063.693350    623.245101     2.225110     0.206452   \n",
       "min       1.000000   1040.000000      0.444000     1.000000     0.000000   \n",
       "25%    2499.250000  23223.000000     17.280000     2.000000     0.000000   \n",
       "50%    4997.500000  56430.500000     54.490000     3.000000     0.200000   \n",
       "75%    7495.750000  90008.000000    209.940000     5.000000     0.200000   \n",
       "max    9994.000000  99301.000000  22638.480000    14.000000     0.800000   \n",
       "\n",
       "            Profit   Unit Price  Unit Price w/out Discout    Unit Cost  \n",
       "count  9994.000000  9994.000000               9994.000000  9994.000000  \n",
       "mean     28.656896    60.919569                 75.571127    53.120197  \n",
       "std     234.260108   142.927440                188.961461   122.251398  \n",
       "min   -6599.978000     0.336000                  0.990000     0.544500  \n",
       "25%       1.728750     5.470000                  6.480000     3.473600  \n",
       "50%       8.666500    16.270000                 19.980000    12.933600  \n",
       "75%      29.364000    63.940000                 76.980000    54.522000  \n",
       "max    8399.976000  3773.080000               7546.160000  4074.926400  "
      ]
     },
     "execution_count": 21,
     "metadata": {},
     "output_type": "execute_result"
    }
   ],
   "source": [
    "df.describe()"
   ]
  },
  {
   "cell_type": "code",
   "execution_count": 22,
   "id": "d209546a",
   "metadata": {},
   "outputs": [
    {
     "data": {
      "text/html": [
       "<div>\n",
       "<style scoped>\n",
       "    .dataframe tbody tr th:only-of-type {\n",
       "        vertical-align: middle;\n",
       "    }\n",
       "\n",
       "    .dataframe tbody tr th {\n",
       "        vertical-align: top;\n",
       "    }\n",
       "\n",
       "    .dataframe thead th {\n",
       "        text-align: right;\n",
       "    }\n",
       "</style>\n",
       "<table border=\"1\" class=\"dataframe\">\n",
       "  <thead>\n",
       "    <tr style=\"text-align: right;\">\n",
       "      <th></th>\n",
       "      <th>Row ID</th>\n",
       "      <th>Order ID</th>\n",
       "      <th>Order Date</th>\n",
       "      <th>Ship Date</th>\n",
       "      <th>Ship Mode</th>\n",
       "      <th>Customer ID</th>\n",
       "      <th>Customer Name</th>\n",
       "      <th>Segment</th>\n",
       "      <th>City</th>\n",
       "      <th>State</th>\n",
       "      <th>...</th>\n",
       "      <th>Category</th>\n",
       "      <th>Sub-Category</th>\n",
       "      <th>Product Name</th>\n",
       "      <th>Sales</th>\n",
       "      <th>Quantity</th>\n",
       "      <th>Discount</th>\n",
       "      <th>Profit</th>\n",
       "      <th>Unit Price</th>\n",
       "      <th>Unit Price w/out Discout</th>\n",
       "      <th>Unit Cost</th>\n",
       "    </tr>\n",
       "  </thead>\n",
       "  <tbody>\n",
       "    <tr>\n",
       "      <th>0</th>\n",
       "      <td>1</td>\n",
       "      <td>CA-2016-152156</td>\n",
       "      <td>11/8/2016</td>\n",
       "      <td>11/11/2016</td>\n",
       "      <td>Second Class</td>\n",
       "      <td>CG-12520</td>\n",
       "      <td>Claire Gute</td>\n",
       "      <td>Consumer</td>\n",
       "      <td>Henderson</td>\n",
       "      <td>Kentucky</td>\n",
       "      <td>...</td>\n",
       "      <td>Furniture</td>\n",
       "      <td>Bookcases</td>\n",
       "      <td>Bush Somerset Collection Bookcase</td>\n",
       "      <td>261.9600</td>\n",
       "      <td>2</td>\n",
       "      <td>0.00</td>\n",
       "      <td>41.9136</td>\n",
       "      <td>130.9800</td>\n",
       "      <td>130.98</td>\n",
       "      <td>110.0232</td>\n",
       "    </tr>\n",
       "    <tr>\n",
       "      <th>1</th>\n",
       "      <td>2</td>\n",
       "      <td>CA-2016-152156</td>\n",
       "      <td>11/8/2016</td>\n",
       "      <td>11/11/2016</td>\n",
       "      <td>Second Class</td>\n",
       "      <td>CG-12520</td>\n",
       "      <td>Claire Gute</td>\n",
       "      <td>Consumer</td>\n",
       "      <td>Henderson</td>\n",
       "      <td>Kentucky</td>\n",
       "      <td>...</td>\n",
       "      <td>Furniture</td>\n",
       "      <td>Chairs</td>\n",
       "      <td>Hon Deluxe Fabric Upholstered Stacking Chairs,...</td>\n",
       "      <td>731.9400</td>\n",
       "      <td>3</td>\n",
       "      <td>0.00</td>\n",
       "      <td>219.5820</td>\n",
       "      <td>243.9800</td>\n",
       "      <td>243.98</td>\n",
       "      <td>170.7860</td>\n",
       "    </tr>\n",
       "    <tr>\n",
       "      <th>2</th>\n",
       "      <td>3</td>\n",
       "      <td>CA-2016-138688</td>\n",
       "      <td>6/12/2016</td>\n",
       "      <td>6/16/2016</td>\n",
       "      <td>Second Class</td>\n",
       "      <td>DV-13045</td>\n",
       "      <td>Darrin Van Huff</td>\n",
       "      <td>Corporate</td>\n",
       "      <td>Los Angeles</td>\n",
       "      <td>California</td>\n",
       "      <td>...</td>\n",
       "      <td>Office Supplies</td>\n",
       "      <td>Labels</td>\n",
       "      <td>Self-Adhesive Address Labels for Typewriters b...</td>\n",
       "      <td>14.6200</td>\n",
       "      <td>2</td>\n",
       "      <td>0.00</td>\n",
       "      <td>6.8714</td>\n",
       "      <td>7.3100</td>\n",
       "      <td>7.31</td>\n",
       "      <td>3.8743</td>\n",
       "    </tr>\n",
       "    <tr>\n",
       "      <th>3</th>\n",
       "      <td>4</td>\n",
       "      <td>US-2015-108966</td>\n",
       "      <td>10/11/2015</td>\n",
       "      <td>10/18/2015</td>\n",
       "      <td>Standard Class</td>\n",
       "      <td>SO-20335</td>\n",
       "      <td>Sean O'Donnell</td>\n",
       "      <td>Consumer</td>\n",
       "      <td>Fort Lauderdale</td>\n",
       "      <td>Florida</td>\n",
       "      <td>...</td>\n",
       "      <td>Furniture</td>\n",
       "      <td>Tables</td>\n",
       "      <td>Bretford CR4500 Series Slim Rectangular Table</td>\n",
       "      <td>957.5775</td>\n",
       "      <td>5</td>\n",
       "      <td>0.45</td>\n",
       "      <td>-383.0310</td>\n",
       "      <td>191.5155</td>\n",
       "      <td>348.21</td>\n",
       "      <td>268.1217</td>\n",
       "    </tr>\n",
       "    <tr>\n",
       "      <th>4</th>\n",
       "      <td>5</td>\n",
       "      <td>US-2015-108966</td>\n",
       "      <td>10/11/2015</td>\n",
       "      <td>10/18/2015</td>\n",
       "      <td>Standard Class</td>\n",
       "      <td>SO-20335</td>\n",
       "      <td>Sean O'Donnell</td>\n",
       "      <td>Consumer</td>\n",
       "      <td>Fort Lauderdale</td>\n",
       "      <td>Florida</td>\n",
       "      <td>...</td>\n",
       "      <td>Office Supplies</td>\n",
       "      <td>Storage</td>\n",
       "      <td>Eldon Fold 'N Roll Cart System</td>\n",
       "      <td>22.3680</td>\n",
       "      <td>2</td>\n",
       "      <td>0.20</td>\n",
       "      <td>2.5164</td>\n",
       "      <td>11.1840</td>\n",
       "      <td>13.98</td>\n",
       "      <td>9.9258</td>\n",
       "    </tr>\n",
       "  </tbody>\n",
       "</table>\n",
       "<p>5 rows × 23 columns</p>\n",
       "</div>"
      ],
      "text/plain": [
       "   Row ID        Order ID  Order Date   Ship Date       Ship Mode Customer ID  \\\n",
       "0       1  CA-2016-152156   11/8/2016  11/11/2016    Second Class    CG-12520   \n",
       "1       2  CA-2016-152156   11/8/2016  11/11/2016    Second Class    CG-12520   \n",
       "2       3  CA-2016-138688   6/12/2016   6/16/2016    Second Class    DV-13045   \n",
       "3       4  US-2015-108966  10/11/2015  10/18/2015  Standard Class    SO-20335   \n",
       "4       5  US-2015-108966  10/11/2015  10/18/2015  Standard Class    SO-20335   \n",
       "\n",
       "     Customer Name    Segment             City       State  ...  \\\n",
       "0      Claire Gute   Consumer        Henderson    Kentucky  ...   \n",
       "1      Claire Gute   Consumer        Henderson    Kentucky  ...   \n",
       "2  Darrin Van Huff  Corporate      Los Angeles  California  ...   \n",
       "3   Sean O'Donnell   Consumer  Fort Lauderdale     Florida  ...   \n",
       "4   Sean O'Donnell   Consumer  Fort Lauderdale     Florida  ...   \n",
       "\n",
       "          Category Sub-Category  \\\n",
       "0        Furniture    Bookcases   \n",
       "1        Furniture       Chairs   \n",
       "2  Office Supplies       Labels   \n",
       "3        Furniture       Tables   \n",
       "4  Office Supplies      Storage   \n",
       "\n",
       "                                        Product Name     Sales Quantity  \\\n",
       "0                  Bush Somerset Collection Bookcase  261.9600        2   \n",
       "1  Hon Deluxe Fabric Upholstered Stacking Chairs,...  731.9400        3   \n",
       "2  Self-Adhesive Address Labels for Typewriters b...   14.6200        2   \n",
       "3      Bretford CR4500 Series Slim Rectangular Table  957.5775        5   \n",
       "4                     Eldon Fold 'N Roll Cart System   22.3680        2   \n",
       "\n",
       "  Discount    Profit  Unit Price  Unit Price w/out Discout  Unit Cost  \n",
       "0     0.00   41.9136    130.9800                    130.98   110.0232  \n",
       "1     0.00  219.5820    243.9800                    243.98   170.7860  \n",
       "2     0.00    6.8714      7.3100                      7.31     3.8743  \n",
       "3     0.45 -383.0310    191.5155                    348.21   268.1217  \n",
       "4     0.20    2.5164     11.1840                     13.98     9.9258  \n",
       "\n",
       "[5 rows x 23 columns]"
      ]
     },
     "execution_count": 22,
     "metadata": {},
     "output_type": "execute_result"
    }
   ],
   "source": [
    "df.head()"
   ]
  },
  {
   "cell_type": "code",
   "execution_count": 23,
   "id": "13825eb9",
   "metadata": {
    "scrolled": false
   },
   "outputs": [
    {
     "data": {
      "image/png": "[encoded data removed]",
      "text/plain": [
       "<Figure size 432x288 with 1 Axes>"
      ]
     },
     "metadata": {
      "needs_background": "light"
     },
     "output_type": "display_data"
    }
   ],
   "source": [
    "bins=[1,2,3,4,5,6,7,8,9,10,11,12,13,14,15]\n",
    "plt.hist(df['Quantity'], bins=bins, color='g')\n",
    "plt.ylabel(\"Number of articles\")\n",
    "plt.xlabel(\"Quantity\")\n",
    "plt.title(\"Quantity per order\")\n",
    "plt.xticks(bins)\n",
    "plt.show()"
   ]
  },
  {
   "cell_type": "code",
   "execution_count": 24,
   "id": "b28f8468",
   "metadata": {},
   "outputs": [
    {
     "data": {
      "image/png": "[encoded data removed]",
      "text/plain": [
       "<Figure size 432x288 with 1 Axes>"
      ]
     },
     "metadata": {
      "needs_background": "light"
     },
     "output_type": "display_data"
    }
   ],
   "source": [
    "bins = [0,10,20,30,40,50,60,70,80,90,100,110, 120,130, 140,150,160,170,180,190,200,210,220,230,240,250,260,270,280,290,300,310,320,330,340,350,360,370,380,390,400,410,420,430,440,450,460,470,480,490,500,510,520,530,540,550]\n",
    "plt.hist(df['Unit Price'], bins=bins)\n",
    "plt.show()"
   ]
  },
  {
   "cell_type": "code",
   "execution_count": 25,
   "id": "71faf323",
   "metadata": {},
   "outputs": [
    {
     "data": {
      "image/png": "[encoded data removed]",
      "text/plain": [
       "<Figure size 432x288 with 1 Axes>"
      ]
     },
     "metadata": {
      "needs_background": "light"
     },
     "output_type": "display_data"
    }
   ],
   "source": [
    "bins = [0,10,20,30,40,50,60,70,80,90,100,110, 120,130, 140,150,160,170,180,190,200,210,220,230,240,250,260,270,280,290,300,310,320,330,340,350,360,370,380,390,400,410]\n",
    "plt.hist(df['Profit'], bins=bins)\n",
    "plt.show()"
   ]
  },
  {
   "cell_type": "code",
   "execution_count": 26,
   "id": "eebdf79f",
   "metadata": {},
   "outputs": [
    {
     "data": {
      "image/png": "[encoded data removed]",
      "text/plain": [
       "<Figure size 432x288 with 1 Axes>"
      ]
     },
     "metadata": {},
     "output_type": "display_data"
    }
   ],
   "source": [
    "of_sup = df.loc[df['Category']=='Office Supplies'].count()[0]\n",
    "furn = df.loc[df['Category']=='Furniture'].count()[0]\n",
    "tech = df.loc[df['Category']=='Technology'].count()[0]\n",
    "labels =['Office Supplies', 'Furniture', 'Technology']\n",
    "colors =['b', 'c', 'g']\n",
    "plt.pie([of_sup, furn, tech], labels=labels, colors=colors, autopct='%.2f %%')\n",
    "plt.title('Categories')\n",
    "plt.show()\n"
   ]
  },
  {
   "cell_type": "code",
   "execution_count": 27,
   "id": "ac047b11",
   "metadata": {},
   "outputs": [
    {
     "data": {
      "image/png": "[encoded data removed]",
      "text/plain": [
       "<Figure size 432x288 with 1 Axes>"
      ]
     },
     "metadata": {},
     "output_type": "display_data"
    }
   ],
   "source": [
    "ca = df.loc[df['State']=='California'].count()[0]\n",
    "ny = df.loc[df['State']=='New York'].count()[0]\n",
    "tx = df.loc[df['State']=='Texas'].count()[0]\n",
    "ps = df.loc[df['State']=='Pennsylvania'].count()[0]\n",
    "ws = df.loc[df['State']=='Washington'].count()[0]\n",
    "il = df.loc[df['State']=='Illinois'].count()[0]\n",
    "oh = df.loc[df['State']=='Ohio'].count()[0]\n",
    "fl = df.loc[df['State']=='Florida'].count()[0]\n",
    "#others = df.loc[df['State']!='California' and df['State']!='New York' and df['State']!='Texas' and df['State']!='Pennsylvania' and df['State']!='Florida' and df['State']!='Washington' and df['State']!='Illinois' and df['State']!='Ohio'].count()[0]\n",
    "labels =['Ca', 'NY', 'Tx', 'Ps', 'Ws', 'Il', 'Oh', 'Fl']\n",
    "plt.pie([ca, ny, tx, ps, ws, il, oh, fl], labels=labels, autopct='%.2f %%')\n",
    "plt.title('States')\n",
    "plt.show()"
   ]
  },
  {
   "cell_type": "code",
   "execution_count": 399,
   "id": "d1855a5a",
   "metadata": {},
   "outputs": [
    {
     "data": {
      "text/plain": [
       "Year  Month\n",
       "2014  1         818.6969\n",
       "      2         107.4613\n",
       "      3        -983.3248\n",
       "      4         296.8975\n",
       "      5         -52.8886\n",
       "      6         389.1239\n",
       "      7         182.5282\n",
       "      8         984.2511\n",
       "      9        1257.0927\n",
       "      10       1054.7193\n",
       "      11       -677.8928\n",
       "      12       1841.3902\n",
       "2015  1       -2872.9144\n",
       "      2         505.9374\n",
       "      3        1560.2559\n",
       "      4          -1.5104\n",
       "      5         261.6403\n",
       "      6         775.5814\n",
       "      7        -691.0561\n",
       "      8        -663.8982\n",
       "      9        1565.5158\n",
       "      10       -631.2656\n",
       "      11       2938.3287\n",
       "      12        498.7703\n",
       "2016  1         903.9579\n",
       "      2        -206.5920\n",
       "      3        -536.8532\n",
       "      4         261.9528\n",
       "      5        1475.5573\n",
       "      6          17.3137\n",
       "      7        1732.4518\n",
       "      8        -623.3654\n",
       "      9         714.0301\n",
       "      10       -687.7550\n",
       "      11       1396.6940\n",
       "      12       2425.5085\n",
       "2017  1         171.4500\n",
       "      2        -312.6843\n",
       "      3        1045.1066\n",
       "      4         211.0428\n",
       "      5        -124.7036\n",
       "      6         828.4935\n",
       "      7         221.8176\n",
       "      8         542.4904\n",
       "      9        1375.1801\n",
       "      10      -2478.5195\n",
       "      11        786.8834\n",
       "      12        359.2317\n",
       "2018  1         489.1436\n",
       "Name: Profit, dtype: float64"
      ]
     },
     "execution_count": 399,
     "metadata": {},
     "output_type": "execute_result"
    }
   ],
   "source": [
    "#Furniture dataset\n",
    "furniture=pd.read_csv('DataGruppo2.csv', encoding='windows-1252')\n",
    "furniture.drop(['Customer Name', 'Sub-Category','Row ID', 'Order ID', 'Order Date', 'Ship Mode', 'Customer ID',\n",
    "                'Segment', 'Country', 'City', 'State', 'Postal Code', 'Region', 'Product ID', 'Quantity', 'Discount', \n",
    "                'Product Name', 'Sales'], axis=1, inplace=True)\n",
    "Index_def= furniture[furniture['Category']!='Furniture'].index\n",
    "furniture.drop(Index_def, inplace=True)\n",
    "furniture.drop(['Category'], axis=1, inplace=True)\n",
    "furniture['Ship Date']=pd.to_datetime(furniture['Ship Date'], format='%m/%d/%Y')\n",
    "furniture['Month']=furniture['Ship Date'].dt.month\n",
    "furniture['Year']=furniture['Ship Date'].dt.year\n",
    "furniture.drop(['Ship Date'], axis=1, inplace=True)\n",
    "furniture.sort_values(['Year', 'Month'])\n",
    "furniture.groupby(['Year', 'Month'])['Profit'].sum()\n",
    "#Furniture datasetprint(furniture[:15])"
   ]
  },
  {
   "cell_type": "code",
   "execution_count": 400,
   "id": "964892f7",
   "metadata": {},
   "outputs": [
    {
     "data": {
      "text/plain": [
       "Year  Month\n",
       "2014  1          749.6420\n",
       "      2          193.2055\n",
       "      3          874.6212\n",
       "      4         1036.2932\n",
       "      5         1940.4291\n",
       "      6         2960.9736\n",
       "      7        -2331.6718\n",
       "      8         3158.4614\n",
       "      9         5983.3368\n",
       "      10        1385.4530\n",
       "      11        4502.7351\n",
       "      12        1514.4407\n",
       "2015  1         1103.9644\n",
       "      2         1913.7946\n",
       "      3         5318.0621\n",
       "      4         -385.8606\n",
       "      5         2829.5131\n",
       "      6         2910.9584\n",
       "      7         1164.2036\n",
       "      8         1732.1354\n",
       "      9         2155.4591\n",
       "      10        1139.2545\n",
       "      11        2702.3794\n",
       "      12        2505.0047\n",
       "2016  1         1434.9596\n",
       "      2         2031.1359\n",
       "      3         1113.4183\n",
       "      4        -1066.3948\n",
       "      5         1622.0608\n",
       "      6         3128.1253\n",
       "      7          903.7454\n",
       "      8         1815.2489\n",
       "      9         3869.7106\n",
       "      10        4254.1523\n",
       "      11        5008.9417\n",
       "      12       11485.6778\n",
       "2017  1         3139.1716\n",
       "      2         1036.1194\n",
       "      3         2886.8051\n",
       "      4         3179.8530\n",
       "      5         3073.6896\n",
       "      6         2455.8312\n",
       "      7         3046.5659\n",
       "      8         6333.4029\n",
       "      9         5039.5179\n",
       "      10        3449.1068\n",
       "      11        3620.1081\n",
       "      12        2156.8288\n",
       "2018  1          416.2302\n",
       "Name: Profit, dtype: float64"
      ]
     },
     "execution_count": 400,
     "metadata": {},
     "output_type": "execute_result"
    }
   ],
   "source": [
    "#Office Supplies dataset\n",
    "off_supp=pd.read_csv('DataGruppo2.csv', encoding='windows-1252')\n",
    "off_supp.drop(['Customer Name', 'Sub-Category','Row ID', 'Order ID', 'Order Date', 'Ship Mode', 'Customer ID',\n",
    "                'Segment', 'Country', 'City', 'State', 'Postal Code', 'Region', 'Product ID', 'Quantity', 'Discount', \n",
    "                'Product Name', 'Sales'], axis=1, inplace=True)\n",
    "Index_def= off_supp[off_supp['Category']!='Office Supplies'].index\n",
    "off_supp.drop(Index_def, inplace=True)\n",
    "off_supp.drop(['Category'], axis=1, inplace=True)\n",
    "off_supp['Ship Date']=pd.to_datetime(off_supp['Ship Date'], format='%m/%d/%Y')\n",
    "off_supp['Month']=off_supp['Ship Date'].dt.month\n",
    "off_supp['Year']=off_supp['Ship Date'].dt.year\n",
    "off_supp.drop(['Ship Date'], axis=1, inplace=True)\n",
    "furniture.sort_values(['Year', 'Month'])\n",
    "off_supp.groupby(['Year', 'Month'])['Profit'].sum()"
   ]
  },
  {
   "cell_type": "code",
   "execution_count": 435,
   "id": "5508e41c",
   "metadata": {},
   "outputs": [
    {
     "data": {
      "text/plain": [
       "(5,)"
      ]
     },
     "execution_count": 435,
     "metadata": {},
     "output_type": "execute_result"
    }
   ],
   "source": [
    "#Technology dataset\n",
    "tech=pd.read_csv('DataGruppo2.csv', encoding='windows-1252')\n",
    "#newtech.shape\n",
    "tech.drop(['Customer Name', 'Sub-Category','Row ID', 'Order ID', 'Order Date', 'Ship Mode', 'Customer ID',\n",
    "                'Segment', 'Country', 'City', 'State', 'Postal Code', 'Region', 'Product ID', 'Quantity', 'Discount', \n",
    "                'Product Name', 'Sales'], axis=1, inplace=True)\n",
    "Index_def= tech[tech['Category']!='Technology'].index\n",
    "tech.drop(Index_def, inplace=True)\n",
    "\n",
    "tech.drop(['Category'], axis=1, inplace=True)\n",
    "tech['Ship Date']=pd.to_datetime(tech['Ship Date'], format='%m/%d/%Y')\n",
    "tech['Month']=tech['Ship Date'].dt.month\n",
    "tech['Year']=tech['Ship Date'].dt.year\n",
    "tech.drop(['Ship Date'], axis=1, inplace=True)\n",
    "tech.sort_values(['Year'])\n",
    "tech=tech.groupby(['Year'])['Profit'].sum()\n",
    "#tech.to_excel('j.xlsx')\n",
    "#print(tech)\n",
    "#tech=tech.to_frame()\n",
    "#tech.info()"
   ]
  },
  {
   "cell_type": "code",
   "execution_count": 450,
   "id": "f6a2b6ef",
   "metadata": {},
   "outputs": [
    {
     "data": {
      "text/plain": [
       "(5, 1)"
      ]
     },
     "execution_count": 450,
     "metadata": {},
     "output_type": "execute_result"
    }
   ],
   "source": [
    "grouped_tech = tech.to_frame()\n",
    "grouped_tech.shape"
   ]
  },
  {
   "cell_type": "code",
   "execution_count": 451,
   "id": "27baaa5e",
   "metadata": {},
   "outputs": [
    {
     "data": {
      "text/html": [
       "<div>\n",
       "<style scoped>\n",
       "    .dataframe tbody tr th:only-of-type {\n",
       "        vertical-align: middle;\n",
       "    }\n",
       "\n",
       "    .dataframe tbody tr th {\n",
       "        vertical-align: top;\n",
       "    }\n",
       "\n",
       "    .dataframe thead th {\n",
       "        text-align: right;\n",
       "    }\n",
       "</style>\n",
       "<table border=\"1\" class=\"dataframe\">\n",
       "  <thead>\n",
       "    <tr style=\"text-align: right;\">\n",
       "      <th></th>\n",
       "      <th>Profit</th>\n",
       "    </tr>\n",
       "    <tr>\n",
       "      <th>Year</th>\n",
       "      <th></th>\n",
       "    </tr>\n",
       "  </thead>\n",
       "  <tbody>\n",
       "    <tr>\n",
       "      <th>2014</th>\n",
       "      <td>20106.7508</td>\n",
       "    </tr>\n",
       "    <tr>\n",
       "      <th>2015</th>\n",
       "      <td>34547.2761</td>\n",
       "    </tr>\n",
       "    <tr>\n",
       "      <th>2016</th>\n",
       "      <td>40467.4194</td>\n",
       "    </tr>\n",
       "    <tr>\n",
       "      <th>2017</th>\n",
       "      <td>50304.0862</td>\n",
       "    </tr>\n",
       "    <tr>\n",
       "      <th>2018</th>\n",
       "      <td>29.4156</td>\n",
       "    </tr>\n",
       "  </tbody>\n",
       "</table>\n",
       "</div>"
      ],
      "text/plain": [
       "          Profit\n",
       "Year            \n",
       "2014  20106.7508\n",
       "2015  34547.2761\n",
       "2016  40467.4194\n",
       "2017  50304.0862\n",
       "2018     29.4156"
      ]
     },
     "execution_count": 451,
     "metadata": {},
     "output_type": "execute_result"
    }
   ],
   "source": [
    "grouped_tech.head()"
   ]
  },
  {
   "cell_type": "code",
   "execution_count": 445,
   "id": "7be9a2ed",
   "metadata": {},
   "outputs": [
    {
     "ename": "ValueError",
     "evalue": "The truth value of a Series is ambiguous. Use a.empty, a.bool(), a.item(), a.any() or a.all().",
     "output_type": "error",
     "traceback": [
      "\u001b[1;31m---------------------------------------------------------------------------\u001b[0m",
      "\u001b[1;31mValueError\u001b[0m                                Traceback (most recent call last)",
      "Input \u001b[1;32mIn [445]\u001b[0m, in \u001b[0;36m<cell line: 1>\u001b[1;34m()\u001b[0m\n\u001b[1;32m----> 1\u001b[0m plt\u001b[38;5;241m.\u001b[39mplot(\u001b[43mgrouped_tech\u001b[49m\u001b[43m[\u001b[49m\u001b[38;5;124;43m\"\u001b[39;49m\u001b[38;5;124;43mYear\u001b[39;49m\u001b[38;5;124;43m\"\u001b[39;49m\u001b[43m]\u001b[49m, grouped_tech\u001b[38;5;241m.\u001b[39mProfit)\n\u001b[0;32m      2\u001b[0m plt\u001b[38;5;241m.\u001b[39mshow()\n",
      "File \u001b[1;32m~\\anaconda3\\lib\\site-packages\\pandas\\core\\frame.py:3505\u001b[0m, in \u001b[0;36mDataFrame.__getitem__\u001b[1;34m(self, key)\u001b[0m\n\u001b[0;32m   3503\u001b[0m \u001b[38;5;28;01mif\u001b[39;00m \u001b[38;5;28mself\u001b[39m\u001b[38;5;241m.\u001b[39mcolumns\u001b[38;5;241m.\u001b[39mnlevels \u001b[38;5;241m>\u001b[39m \u001b[38;5;241m1\u001b[39m:\n\u001b[0;32m   3504\u001b[0m     \u001b[38;5;28;01mreturn\u001b[39;00m \u001b[38;5;28mself\u001b[39m\u001b[38;5;241m.\u001b[39m_getitem_multilevel(key)\n\u001b[1;32m-> 3505\u001b[0m indexer \u001b[38;5;241m=\u001b[39m \u001b[38;5;28;43mself\u001b[39;49m\u001b[38;5;241;43m.\u001b[39;49m\u001b[43mcolumns\u001b[49m\u001b[38;5;241;43m.\u001b[39;49m\u001b[43mget_loc\u001b[49m\u001b[43m(\u001b[49m\u001b[43mkey\u001b[49m\u001b[43m)\u001b[49m\n\u001b[0;32m   3506\u001b[0m \u001b[38;5;28;01mif\u001b[39;00m is_integer(indexer):\n\u001b[0;32m   3507\u001b[0m     indexer \u001b[38;5;241m=\u001b[39m [indexer]\n",
      "File \u001b[1;32m~\\anaconda3\\lib\\site-packages\\pandas\\core\\indexes\\base.py:3621\u001b[0m, in \u001b[0;36mIndex.get_loc\u001b[1;34m(self, key, method, tolerance)\u001b[0m\n\u001b[0;32m   3619\u001b[0m casted_key \u001b[38;5;241m=\u001b[39m \u001b[38;5;28mself\u001b[39m\u001b[38;5;241m.\u001b[39m_maybe_cast_indexer(key)\n\u001b[0;32m   3620\u001b[0m \u001b[38;5;28;01mtry\u001b[39;00m:\n\u001b[1;32m-> 3621\u001b[0m     \u001b[38;5;28;01mreturn\u001b[39;00m \u001b[38;5;28;43mself\u001b[39;49m\u001b[38;5;241;43m.\u001b[39;49m\u001b[43m_engine\u001b[49m\u001b[38;5;241;43m.\u001b[39;49m\u001b[43mget_loc\u001b[49m\u001b[43m(\u001b[49m\u001b[43mcasted_key\u001b[49m\u001b[43m)\u001b[49m\n\u001b[0;32m   3622\u001b[0m \u001b[38;5;28;01mexcept\u001b[39;00m \u001b[38;5;167;01mKeyError\u001b[39;00m \u001b[38;5;28;01mas\u001b[39;00m err:\n\u001b[0;32m   3623\u001b[0m     \u001b[38;5;28;01mraise\u001b[39;00m \u001b[38;5;167;01mKeyError\u001b[39;00m(key) \u001b[38;5;28;01mfrom\u001b[39;00m \u001b[38;5;21;01merr\u001b[39;00m\n",
      "File \u001b[1;32m~\\anaconda3\\lib\\site-packages\\pandas\\_libs\\index.pyx:136\u001b[0m, in \u001b[0;36mpandas._libs.index.IndexEngine.get_loc\u001b[1;34m()\u001b[0m\n",
      "File \u001b[1;32m~\\anaconda3\\lib\\site-packages\\pandas\\_libs\\index.pyx:160\u001b[0m, in \u001b[0;36mpandas._libs.index.IndexEngine.get_loc\u001b[1;34m()\u001b[0m\n",
      "File \u001b[1;32m~\\anaconda3\\lib\\site-packages\\pandas\\_libs\\index.pyx:183\u001b[0m, in \u001b[0;36mpandas._libs.index.IndexEngine._get_loc_duplicates\u001b[1;34m()\u001b[0m\n",
      "File \u001b[1;32m~\\anaconda3\\lib\\site-packages\\pandas\\_libs\\index.pyx:235\u001b[0m, in \u001b[0;36mpandas._libs.index.IndexEngine.is_monotonic_increasing.__get__\u001b[1;34m()\u001b[0m\n",
      "File \u001b[1;32m~\\anaconda3\\lib\\site-packages\\pandas\\_libs\\index.pyx:252\u001b[0m, in \u001b[0;36mpandas._libs.index.IndexEngine._do_monotonic_check\u001b[1;34m()\u001b[0m\n",
      "File \u001b[1;32m~\\anaconda3\\lib\\site-packages\\pandas\\_libs\\index.pyx:266\u001b[0m, in \u001b[0;36mpandas._libs.index.IndexEngine._call_monotonic\u001b[1;34m()\u001b[0m\n",
      "File \u001b[1;32m~\\anaconda3\\lib\\site-packages\\pandas\\_libs\\algos.pyx:754\u001b[0m, in \u001b[0;36mpandas._libs.algos.is_monotonic\u001b[1;34m()\u001b[0m\n",
      "File \u001b[1;32m~\\anaconda3\\lib\\site-packages\\pandas\\core\\generic.py:1527\u001b[0m, in \u001b[0;36mNDFrame.__nonzero__\u001b[1;34m(self)\u001b[0m\n\u001b[0;32m   1525\u001b[0m \u001b[38;5;129m@final\u001b[39m\n\u001b[0;32m   1526\u001b[0m \u001b[38;5;28;01mdef\u001b[39;00m \u001b[38;5;21m__nonzero__\u001b[39m(\u001b[38;5;28mself\u001b[39m):\n\u001b[1;32m-> 1527\u001b[0m     \u001b[38;5;28;01mraise\u001b[39;00m \u001b[38;5;167;01mValueError\u001b[39;00m(\n\u001b[0;32m   1528\u001b[0m         \u001b[38;5;124mf\u001b[39m\u001b[38;5;124m\"\u001b[39m\u001b[38;5;124mThe truth value of a \u001b[39m\u001b[38;5;132;01m{\u001b[39;00m\u001b[38;5;28mtype\u001b[39m(\u001b[38;5;28mself\u001b[39m)\u001b[38;5;241m.\u001b[39m\u001b[38;5;18m__name__\u001b[39m\u001b[38;5;132;01m}\u001b[39;00m\u001b[38;5;124m is ambiguous. \u001b[39m\u001b[38;5;124m\"\u001b[39m\n\u001b[0;32m   1529\u001b[0m         \u001b[38;5;124m\"\u001b[39m\u001b[38;5;124mUse a.empty, a.bool(), a.item(), a.any() or a.all().\u001b[39m\u001b[38;5;124m\"\u001b[39m\n\u001b[0;32m   1530\u001b[0m     )\n",
      "\u001b[1;31mValueError\u001b[0m: The truth value of a Series is ambiguous. Use a.empty, a.bool(), a.item(), a.any() or a.all()."
     ]
    }
   ],
   "source": [
    "plt.plot(grouped_tech[\"Year\"], grouped_tech.Profit)\n",
    "plt.show()"
   ]
  },
  {
   "cell_type": "code",
   "execution_count": 229,
   "id": "5cd83a4e",
   "metadata": {},
   "outputs": [
    {
     "data": {
      "text/html": [
       "<div>\n",
       "<style scoped>\n",
       "    .dataframe tbody tr th:only-of-type {\n",
       "        vertical-align: middle;\n",
       "    }\n",
       "\n",
       "    .dataframe tbody tr th {\n",
       "        vertical-align: top;\n",
       "    }\n",
       "\n",
       "    .dataframe thead th {\n",
       "        text-align: right;\n",
       "    }\n",
       "</style>\n",
       "<table border=\"1\" class=\"dataframe\">\n",
       "  <thead>\n",
       "    <tr style=\"text-align: right;\">\n",
       "      <th></th>\n",
       "      <th>Profit</th>\n",
       "      <th>Month</th>\n",
       "      <th>Year</th>\n",
       "    </tr>\n",
       "  </thead>\n",
       "  <tbody>\n",
       "  </tbody>\n",
       "</table>\n",
       "</div>"
      ],
      "text/plain": [
       "Empty DataFrame\n",
       "Columns: [Profit, Month, Year]\n",
       "Index: []"
      ]
     },
     "execution_count": 229,
     "metadata": {},
     "output_type": "execute_result"
    }
   ],
   "source": [
    "Index_def= tech[tech['Year']=='2015'].index\n",
    "tech.drop(Index_def, inplace=True)\n",
    "tech.head()"
   ]
  },
  {
   "cell_type": "code",
   "execution_count": 226,
   "id": "4e633a52",
   "metadata": {
    "scrolled": true
   },
   "outputs": [
    {
     "data": {
      "image/png": "[encoded data removed]",
      "text/plain": [
       "<Figure size 432x288 with 1 Axes>"
      ]
     },
     "metadata": {
      "needs_background": "light"
     },
     "output_type": "display_data"
    }
   ],
   "source": [
    "plt.plot(tech.Year, tech.Profit)\n",
    "plt.show()"
   ]
  },
  {
   "cell_type": "code",
   "execution_count": 293,
   "id": "f9a01478",
   "metadata": {},
   "outputs": [
    {
     "name": "stdout",
     "output_type": "stream",
     "text": [
      "                          city  population\n",
      "470                Federal Way       99792\n",
      "471                    Manteca       99764\n",
      "472                  Lafayette       99475\n",
      "473                   Santa Fe       99439\n",
      "474                   Hesperia       99287\n",
      "...                        ...         ...\n",
      "30839                Ironville           0\n",
      "30840                  Newkirk           0\n",
      "30841           Falcon Village           0\n",
      "30842             Hidden Lakes           0\n",
      "30843  El Monte Mobile Village           0\n",
      "\n",
      "[30374 rows x 2 columns]\n",
      "              city  population\n",
      "89            Mesa      497752\n",
      "90   Staten Island      495747\n",
      "91         Wichita      491916\n",
      "92          Toledo      490832\n",
      "93      Harrisburg      472261\n",
      "..             ...         ...\n",
      "465   Lee's Summit      100772\n",
      "466         Quincy      100544\n",
      "467     San Angelo      100330\n",
      "468           Lynn      100233\n",
      "469        Holland      100202\n",
      "\n",
      "[381 rows x 2 columns]\n",
      "                city  population\n",
      "51     Oklahoma City      994284\n",
      "52        Bridgeport      975078\n",
      "53       New Orleans      925443\n",
      "54        Fort Worth      908469\n",
      "55          Hartford      907046\n",
      "56            Tucson      875284\n",
      "57          Honolulu      835291\n",
      "58           McAllen      809002\n",
      "59             Omaha      806485\n",
      "60           El Paso      794344\n",
      "61       Albuquerque      765693\n",
      "62         Rochester      737309\n",
      "63          Sarasota      727388\n",
      "64            Fresno      719558\n",
      "65             Tulsa      715983\n",
      "66         Allentown      714136\n",
      "67            Dayton      709300\n",
      "68        Birmingham      704676\n",
      "69        Charleston      685517\n",
      "70        Cape Coral      682773\n",
      "71          Columbia      640502\n",
      "72           Concord      640270\n",
      "73  Colorado Springs      628808\n",
      "74       Springfield      620494\n",
      "75         Knoxville      619925\n",
      "76       Baton Rouge      610751\n",
      "77             Ogden      608259\n",
      "78      Grand Rapids      604311\n",
      "79            Albany      604077\n",
      "80       Bakersfield      590845\n",
      "81     Mission Viejo      588540\n",
      "82         New Haven      587648\n",
      "83         Worcester      573573\n",
      "84             Provo      551645\n",
      "85             Akron      546549\n",
      "86          Palm Bay      528322\n",
      "87        Des Moines      514654\n",
      "88          Murrieta      509526\n",
      "              city  population\n",
      "15     Minneapolis     2856952\n",
      "16        Brooklyn     2736074\n",
      "17           Tampa     2683956\n",
      "18          Denver     2650725\n",
      "19          Queens     2405464\n",
      "20       Baltimore     2205092\n",
      "21       Las Vegas     2150373\n",
      "22       St. Louis     2092481\n",
      "23        Portland     2036875\n",
      "24       Riverside     2022285\n",
      "25         Orlando     1927699\n",
      "26      Sacramento     1924167\n",
      "27        San Juan     1915105\n",
      "28     San Antonio     1910785\n",
      "29        San Jose     1729879\n",
      "30      Pittsburgh     1720279\n",
      "31      Cincinnati     1712287\n",
      "32       Manhattan     1694263\n",
      "33       Cleveland     1683059\n",
      "34    Indianapolis     1659305\n",
      "35          Austin     1659251\n",
      "36     Kansas City     1644497\n",
      "37        Columbus     1556848\n",
      "38       Charlotte     1516107\n",
      "39  Virginia Beach     1500764\n",
      "40           Bronx     1472654\n",
      "41       Milwaukee     1340981\n",
      "42      Providence     1270149\n",
      "43    Jacksonville     1220191\n",
      "44  Salt Lake City     1135344\n",
      "45       Nashville     1098486\n",
      "46         Raleigh     1062018\n",
      "47         Memphis     1034498\n",
      "48      Louisville     1022630\n",
      "49        Richmond     1008069\n",
      "50         Buffalo     1004655\n",
      "             city  population\n",
      "0        New York    18972871\n",
      "1     Los Angeles    12121244\n",
      "2         Chicago     8595181\n",
      "3           Miami     5711945\n",
      "4          Dallas     5668165\n",
      "5         Houston     5650910\n",
      "6    Philadelphia     5512873\n",
      "7         Atlanta     5046555\n",
      "8      Washington     4810669\n",
      "9          Boston     4208580\n",
      "10        Phoenix     4047095\n",
      "11        Detroit     3522856\n",
      "12        Seattle     3438221\n",
      "13  San Francisco     3290197\n",
      "14      San Diego     3084174\n"
     ]
    }
   ],
   "source": [
    "#US Cities dataset\n",
    "uscities1=pd.read_csv('uscities.csv', encoding='windows-1252')\n",
    "uscities1.drop(['state_id', 'county_name', 'lat', 'lng', 'density', 'source', 'military', 'incorporated', 'timezone', 'ranking', \n",
    "                'zips', 'id', 'county_fips', 'state_name', 'city_ascii'], axis=1, inplace=True)\n",
    "Index_def= uscities1[uscities1['population']>=100000].index\n",
    "uscities1.drop(Index_def, inplace=True)\n",
    "\n",
    "uscities2=pd.read_csv('uscities.csv', encoding='windows-1252')\n",
    "uscities2.drop(['state_id', 'county_name', 'lat', 'lng', 'density', 'source', 'military', 'incorporated', 'timezone', 'ranking', \n",
    "                'zips', 'id', 'county_fips', 'state_name', 'city_ascii'], axis=1, inplace=True)\n",
    "Index_def= uscities2[uscities2['population']<100000].index\n",
    "Index_def2= uscities2[uscities2['population']>=500000].index \n",
    "uscities2.drop(Index_def, inplace=True)\n",
    "uscities2.drop(Index_def2, inplace=True)\n",
    "\n",
    "uscities3=pd.read_csv('uscities.csv', encoding='windows-1252')\n",
    "uscities3.drop(['state_id', 'county_name', 'lat', 'lng', 'density', 'source', 'military', 'incorporated', 'timezone', 'ranking', \n",
    "                'zips', 'id', 'county_fips', 'state_name', 'city_ascii'], axis=1, inplace=True)\n",
    "Index_def= uscities3[uscities3['population']<500000].index\n",
    "Index_def2= uscities3[uscities3['population']>=1000000].index \n",
    "uscities3.drop(Index_def, inplace=True)\n",
    "uscities3.drop(Index_def2, inplace=True)\n",
    "\n",
    "uscities4=pd.read_csv('uscities.csv', encoding='windows-1252')\n",
    "uscities4.drop(['state_id', 'county_name', 'lat', 'lng', 'density', 'source', 'military', 'incorporated', 'timezone', 'ranking', \n",
    "                'zips', 'id', 'county_fips', 'state_name', 'city_ascii'], axis=1, inplace=True)\n",
    "Index_def= uscities4[uscities4['population']<1000000].index\n",
    "Index_def2= uscities4[uscities4['population']>=3000000].index \n",
    "uscities4.drop(Index_def, inplace=True)\n",
    "uscities4.drop(Index_def2, inplace=True)\n",
    "\n",
    "uscities5=pd.read_csv('uscities.csv', encoding='windows-1252')\n",
    "uscities5.drop(['state_id', 'county_name', 'lat', 'lng', 'density', 'source', 'military', 'incorporated', 'timezone', 'ranking', \n",
    "                'zips', 'id', 'county_fips', 'state_name', 'city_ascii'], axis=1, inplace=True)\n",
    "Index_def= uscities5[uscities5['population']<3000000].index\n",
    "uscities5.drop(Index_def, inplace=True)\n",
    "\n",
    "\n",
    "print(uscities1)\n",
    "print(uscities2)\n",
    "print(uscities3)\n",
    "print(uscities4)\n",
    "print(uscities5)"
   ]
  },
  {
   "cell_type": "code",
   "execution_count": 263,
   "id": "736b6a7c",
   "metadata": {},
   "outputs": [
    {
     "data": {
      "text/plain": [
       "pandas.core.series.Series"
      ]
     },
     "execution_count": 263,
     "metadata": {},
     "output_type": "execute_result"
    }
   ],
   "source": [
    "type(uscities.population)"
   ]
  },
  {
   "cell_type": "code",
   "execution_count": 260,
   "id": "12d55ebe",
   "metadata": {},
   "outputs": [
    {
     "data": {
      "text/plain": [
       "city          object\n",
       "population     int64\n",
       "dtype: object"
      ]
     },
     "execution_count": 260,
     "metadata": {},
     "output_type": "execute_result"
    }
   ],
   "source": [
    "uscities1.dtypes"
   ]
  },
  {
   "cell_type": "code",
   "execution_count": 299,
   "id": "94b11d75",
   "metadata": {},
   "outputs": [
    {
     "name": "stdout",
     "output_type": "stream",
     "text": [
      "Category\n",
      "Furniture          741999.7953\n",
      "Office Supplies    719047.0320\n",
      "Technology         836154.0330\n",
      "Name: Sales, dtype: float64\n"
     ]
    }
   ],
   "source": [
    "#Sales dataset\n",
    "sales=pd.read_csv('DataGruppo2.csv', encoding='windows-1252')\n",
    "sales.drop(['Customer Name', 'Ship Date','Sub-Category','Row ID', 'Order ID', 'Order Date', 'Ship Mode', 'Customer ID',\n",
    "                'Segment', 'Country', 'City', 'State', 'Postal Code', 'Region', 'Product ID', 'Quantity', 'Discount', \n",
    "                'Product Name', 'Profit'], axis=1, inplace=True)\n",
    "sales=sales.groupby(['Category'])['Sales'].sum()\n",
    "print(sales)"
   ]
  },
  {
   "cell_type": "code",
   "execution_count": 301,
   "id": "55559424",
   "metadata": {},
   "outputs": [
    {
     "name": "stdout",
     "output_type": "stream",
     "text": [
      "Category\n",
      "Furniture          723548.5225\n",
      "Office Supplies    596556.2312\n",
      "Technology         690699.0849\n",
      "Name: Cost, dtype: float64\n"
     ]
    }
   ],
   "source": [
    "#Cost dataset\n",
    "cost=pd.read_csv('DataGruppo2.csv', encoding='windows-1252')\n",
    "cost.drop(['Customer Name', 'Ship Date','Sub-Category','Row ID', 'Order ID', 'Order Date', 'Ship Mode', 'Customer ID',\n",
    "                'Segment', 'Country', 'City', 'State', 'Postal Code', 'Region', 'Product ID', 'Discount', \n",
    "                'Product Name'], axis=1, inplace=True)\n",
    "cost['Cost']=cost['Sales']-cost['Profit']\n",
    "cost=cost.groupby(['Category'])['Cost'].sum()\n",
    "print(cost)"
   ]
  },
  {
   "cell_type": "code",
   "execution_count": 322,
   "id": "15a7ab95",
   "metadata": {},
   "outputs": [
    {
     "name": "stdout",
     "output_type": "stream",
     "text": [
      "Category\n",
      "Furniture          723548.5225\n",
      "Office Supplies    596556.2312\n",
      "Technology         690699.0849\n",
      "Name: Cost, dtype: float64\n"
     ]
    }
   ],
   "source": [
    "#Profit dataset\n",
    "profit=pd.read_csv('DataGruppo2.csv', encoding='windows-1252')\n",
    "profit.drop(['Customer Name', 'Ship Date','Sub-Category','Row ID', 'Order ID', 'Order Date', 'Ship Mode', 'Customer ID',\n",
    "                'Segment', 'Country', 'City', 'State', 'Postal Code', 'Region', 'Product ID', 'Discount', \n",
    "                'Product Name'], axis=1, inplace=True)\n",
    "profit=profit.groupby(['Category'])['Profit'].sum()\n",
    "print(cost)"
   ]
  },
  {
   "cell_type": "code",
   "execution_count": 363,
   "id": "a433ee38",
   "metadata": {},
   "outputs": [
    {
     "name": "stdout",
     "output_type": "stream",
     "text": [
      "                       Sales         Cost       Profit\n",
      "Category                                              \n",
      "Furniture        741999.7953  723548.5225   18451.2728\n",
      "Office Supplies  719047.0320  596556.2312  122490.8008\n",
      "Technology       836154.0330  690699.0849  145454.9481\n"
     ]
    },
    {
     "data": {
      "image/png": "[encoded data removed]",
      "text/plain": [
       "<Figure size 432x288 with 1 Axes>"
      ]
     },
     "metadata": {
      "needs_background": "light"
     },
     "output_type": "display_data"
    }
   ],
   "source": [
    "merged_df = pd.merge(cost, profit, on='Category')\n",
    "merged_df = pd.merge(sales, merged_df, on='Category')\n",
    "print(merged_df)\n",
    "merged_df.to_excel('j.xlsx')\n",
    "merged_df.plot(kind='bar', color=('#6C71AC','#AE1729', '#6EAC6C'), edgecolor=('#737373'), width=0.8)\n",
    "#grouped_profit = pd.DataFrame(profit)\n",
    "#grouped_profit.plot(kind='bar')\n",
    "#new_profit = profit.tolist()\n",
    "#plt.hist(new_profit, bins=10)\n",
    "plt.title('Total sales, costs and profits for each category', size=14, weight=500, family=\"Sans Serif\")\n",
    "plt.ylabel('Tot. amount in $', size=12, weight=500)\n",
    "plt.xlabel('Category', size=12, weight=500)\n",
    "plt.show()"
   ]
  },
  {
   "cell_type": "code",
   "execution_count": 452,
   "id": "095fba11",
   "metadata": {
    "scrolled": true
   },
   "outputs": [
    {
     "data": {
      "image/png": "[encoded data removed]",
      "text/plain": [
       "<Figure size 432x288 with 1 Axes>"
      ]
     },
     "metadata": {},
     "output_type": "display_data"
    }
   ],
   "source": [
    "colors =['#5BFC79', '#78FC5B', '#BAFC5B']\n",
    "explode = (0.2,0.02,0.02)\n",
    "merged_df['Profit'].plot(kind='pie', colors=colors, autopct='%.2f %%', pctdistance=0.70, explode=explode, textprops={'fontsize':11})\n",
    "plt.title('Profit for each category', size=14, weight=500)\n",
    "plt.ylabel('')\n",
    "plt.show()"
   ]
  },
  {
   "cell_type": "code",
   "execution_count": null,
   "id": "c1b0efc8",
   "metadata": {},
   "outputs": [],
   "source": []
  }
 ],
 "metadata": {
  "kernelspec": {
   "display_name": "Python 3 (ipykernel)",
   "language": "python",
   "name": "python3"
  },
  "language_info": {
   "codemirror_mode": {
    "name": "ipython",
    "version": 3
   },
   "file_extension": ".py",
   "mimetype": "text/x-python",
   "name": "python",
   "nbconvert_exporter": "python",
   "pygments_lexer": "ipython3",
   "version": "3.9.12"
  }
 },
 "nbformat": 4,
 "nbformat_minor": 5
}
